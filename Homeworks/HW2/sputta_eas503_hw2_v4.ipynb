{
 "cells": [
  {
   "cell_type": "markdown",
   "metadata": {},
   "source": [
    "## EAS 503 Homework 2 Submission\n",
    "Name - Sai Kiran Putta\n",
    "\n",
    "**Make sure that you rename the notebook file to *replacewithubitname*_eas503_hw2.ipynb**\n",
    "\n",
    "\n",
    "### Submission Details \n",
    "* **Due Date** - October 17, 2017 by 11.59 PM PST. All assignments have to be submitted using UBLearns.\n",
    "* **Number of Problems** - 4 \n",
    "* **Maximum points** - 50\n",
    "* **Collaboration policy**\n",
    " - Every student has to submit individual homeworks\n",
    " - Any collaboration, in the form of discussion, with other members of the class is permitted, as long as the names of the collaborating members are explicitly stated on top of the submitted homework.\n",
    " - Any overlap with another submission or material from Internet will be awarded an F.\n",
    "* **Late submission policy** - _No late submissions allowed_\n",
    "* **Submission Format** - Enter code for each problem in the appropriate cell below. You may use multiple cells for a single problem to improve readability."
   ]
  },
  {
   "cell_type": "markdown",
   "metadata": {},
   "source": [
    "### Problem 1 - Inheritance and Encapsulation (10 points)\n",
    "\n",
    "Consider a class of credit card accounts. A credit card account can have 2 types of credit cards:\n",
    "1. Primary card  \n",
    "2. Supplement card (Sup-card)\n",
    "\n",
    "A primary account is the main account to which multiple sup-cards are linked. The primary credit card holder will be responsible for the bill payments for all the transactions on the primary card itself as well as all its supplimentary cards. Assume that each sup-card has the same individual credit limit as the primary credit card. Any transaction over the permitted account credit limit must be denied i.e. if the total account balance exceeds the credit limit on the primary account, any transaction, on all the cards linked to the account (primary or sup-card), will be denied.\n",
    "\n",
    "For this problem, design a class `PrimaryCard` with all the account details and primary credit card details included in the class. Construct a sub-class of supplementary card holder, `SupplementaryCard`, linked to a primary credit card account. Ensure that the sensitive details of all the accounts (credit card numbers, balance, account limit etc.) must saved and accessed securely. \n",
    "\n",
    "Use the `Account_details.txt` file to access the account details for 15 credit cards. The transaction details for the month of october are provided in `transaction.txt` file. Design an algorithm to update the account balance on all the accounts and plot the final account balance on each day for the month of october."
   ]
  },
  {
   "cell_type": "code",
   "execution_count": 18,
   "metadata": {},
   "outputs": [],
   "source": [
    "import numpy as np\n",
    "import matplotlib.pyplot as plt\n",
    "import seaborn as sns\n",
    "sns.set_style(\"whitegrid\")\n",
    "\n",
    "%matplotlib inline"
   ]
  },
  {
   "cell_type": "code",
   "execution_count": 2,
   "metadata": {
    "collapsed": true
   },
   "outputs": [],
   "source": [
    "#Enter your solution here\n",
    "class PrimaryCard:\n",
    "    def __init__(self, customer_id, card_number, card_type, card_limit, card_balance):\n",
    "        self.__card_number = card_number\n",
    "        self.__card_type = card_type\n",
    "        self.__card_limit = card_limit\n",
    "        self.__card_balance = card_balance\n",
    "        self.__customer_id = customer_id\n",
    "        self.__cardlist = []\n",
    "    \n",
    "    def get_customerid(self):\n",
    "        return(self.__customer_id)\n",
    "    \n",
    "    def get_CardNumber(self):\n",
    "        return(self.__card_number)\n",
    "    \n",
    "    def get_Cardtype(self):\n",
    "        return(self.__card_type)\n",
    "    \n",
    "    def get_Cardlimit(self):\n",
    "        return(self.__card_limit)\n",
    "    \n",
    "    def get_Cardbalance(self):\n",
    "        return(self.__card_balance)\n",
    "    \n",
    "    def append_Cards(self, newcard):\n",
    "        self.__cardlist.append(newcard)\n",
    "    \n",
    "    def set_Cardbalance(self, purchase):\n",
    "        self.__card_balance = float(self.__card_balance) + float(purchase)\n",
    "    \n",
    "class SupplementaryCard(PrimaryCard):\n",
    "    def __init__(self, customer_id, card_number, card_type, card_limit, card_balance, primarycardnumber_ofsecondcard):\n",
    "        super().__init__(customer_id, card_number, card_type, card_limit, card_balance)\n",
    "        self.__primarycardnumber_ofsecondcard = primarycardnumber_ofsecondcard\n",
    "    \n",
    "    def get_primarycardnumber_ofsecondcard(self):\n",
    "        return(self.__primarycardnumber_ofsecondcard)\n",
    "    #If the card is secondary and the primary limit is different to secondary, we change it. \n",
    "    #Have to do it. Pending. \n",
    "    def set_Cardlimit(self, newlimit):\n",
    "        self.card_limit = newlimit \n",
    "        \n",
    "    def get_Totalbalance(self):\n",
    "        balance_list = [a.get_Cardbalance for a in self.__cardlist]\n",
    "        return(sum(balance_list))\n",
    "   \n",
    "    \n",
    "class Account:\n",
    "    def __init__(self, customer_id, card_number, account_number):\n",
    "        self.__customer_id = customer_id\n",
    "        self.__account_number = account_number\n",
    "        self.__card_number = card_number\n",
    "        self.__cardsdict = {}\n",
    "        \n",
    "    def append_cards(self,card): #card should be a supplementary card object. \n",
    "        if(self.get_cardnumber() in self.get_cardsdict().keys()):\n",
    "            self.get_cardsdict[self.get_cardnumber()].append(card)\n",
    "        else:\n",
    "            self.get_cardsdict()[self.get_cardnumber()] = [card]\n",
    "            \n",
    "    \n",
    "    def get_customerid(self):\n",
    "        return(self.__customer_id)\n",
    "    def get_accountnumber(self):\n",
    "        return(self.__account_number)\n",
    "    def get_cardnumber(self):\n",
    "        return(self.__card_number)\n",
    "    def get_cardsdict(self):\n",
    "        return(self.__cardsdict)\n",
    "    "
   ]
  },
  {
   "cell_type": "code",
   "execution_count": 3,
   "metadata": {},
   "outputs": [],
   "source": [
    "import csv\n",
    "accounts = {} #key is account_number, value is CARD_OBJECT.\n",
    "\n",
    "account_primaryconnection = {} #key is account, value is [primary card, primarycardlimit]. \n",
    "secondary_accountconnection = {} #key is secondary, value is primary card. \n",
    "\n",
    "\n",
    "customerid_accountconnection = {}\n",
    "\n",
    "#all the cards with primary being populated. Also should establish connection \n",
    "with open('./Account_details.txt') as f:\n",
    "    reader = csv.reader(f, delimiter = \"\\t\")\n",
    "    next(reader)\n",
    "    for row in reader:\n",
    "        \n",
    "        customerid_accountconnection[row[0]] = row[2]\n",
    "    \n",
    "        if(row[3] == \"P\"):\n",
    "            account = Account(row[0], row[1], row[2])\n",
    "            card_details = PrimaryCard(row[0], row[1], row[3], row[4], row[5])\n",
    "            \n",
    "\n",
    "            if(account.get_accountnumber() in accounts.keys()):\n",
    "                accounts[account.get_accountnumber()].append(card_details)\n",
    "            else:\n",
    "                accounts[account.get_accountnumber()] = [card_details]\n",
    "                account_primaryconnection[account.get_accountnumber()] = [card_details.get_CardNumber(), card_details.get_Cardlimit()]\n",
    "        else:\n",
    "            #we have the secondary card. populate secondary_accountconnection\n",
    "            account = row[2]    \n",
    "            secondary_card = row[1]\n",
    "            secondary_accountconnection[secondary_card] = account\n"
   ]
  },
  {
   "cell_type": "code",
   "execution_count": 4,
   "metadata": {},
   "outputs": [],
   "source": [
    "#create a link between secondary card number and [primary card limit, primary account]. \n",
    "secondarycard_primaryinfo = {}\n",
    "for i in secondary_accountconnection.keys():\n",
    "    secondarycard_primaryinfo[i] = account_primaryconnection[secondary_accountconnection[i]]\n"
   ]
  },
  {
   "cell_type": "code",
   "execution_count": 5,
   "metadata": {},
   "outputs": [],
   "source": [
    "#all the secondary cards being populated with requried correct 'credit limit'. \n",
    "with open('./Account_details.txt') as f:            \n",
    "    reader = csv.reader(f, delimiter = \"\\t\")\n",
    "    next(reader)\n",
    "    for row in reader:\n",
    "        if(row[3] == \"S\"):\n",
    "            account = Account(row[0], row[1], row[2])\n",
    "            card_details = SupplementaryCard(row[0], row[1], row[3], secondarycard_primaryinfo[row[1]][1], row[5],secondarycard_primaryinfo[row[1]][0])\n",
    "            accounts[account.get_accountnumber()].append(card_details)\n",
    "       "
   ]
  },
  {
   "cell_type": "code",
   "execution_count": 6,
   "metadata": {},
   "outputs": [],
   "source": [
    "customerid_cardlimit = {}\n",
    "#Now update the limit from limit_list. \n",
    "for index, account_number in enumerate(accounts.keys()):\n",
    "    for card_i in range(0, len(accounts[account_number])):\n",
    "        #accounts[account_number][card_i].set_Cardlimit(limit_list[index])\n",
    "        #print(account_number, \":\", accounts[account_number][card_i].get_Cardlimit())\n",
    "        #print(\"Customerid:\", accounts[account_number][card_i].get_customerid(), \"Cardlimit:\", accounts[account_number][card_i].get_Cardlimit())\n",
    "        customerid_cardlimit[accounts[account_number][card_i].get_customerid()] = accounts[account_number][card_i].get_Cardlimit()\n"
   ]
  },
  {
   "cell_type": "code",
   "execution_count": 7,
   "metadata": {},
   "outputs": [],
   "source": [
    "def get_totalbalance_foraccount(account):\n",
    "    sum = 0\n",
    "    for i in account:\n",
    "        sum = sum + int(i.get_Cardbalance())\n",
    "    return(sum)\n",
    "#get_totalbalance_foraccount('4652')"
   ]
  },
  {
   "cell_type": "code",
   "execution_count": 8,
   "metadata": {},
   "outputs": [
    {
     "name": "stdout",
     "output_type": "stream",
     "text": [
      "Balance exeeded card limit.\n",
      "Balance exeeded card limit.\n",
      "Balance exeeded card limit.\n",
      "Balance exeeded card limit.\n",
      "Balance exeeded card limit.\n",
      "Balance exeeded card limit.\n",
      "Balance exeeded card limit.\n",
      "Balance exeeded card limit.\n",
      "Balance exeeded card limit.\n",
      "Balance exeeded card limit.\n",
      "Balance exeeded card limit.\n",
      "Balance exeeded card limit.\n",
      "Balance exeeded card limit.\n",
      "Balance exeeded card limit.\n",
      "Balance exeeded card limit.\n",
      "Balance exeeded card limit.\n",
      "Balance exeeded card limit.\n"
     ]
    }
   ],
   "source": [
    "final_balancedict = {}  #account_number : [balance, date.]\n",
    "    \n",
    "    \n",
    "with open('./transaction.txt') as f:            \n",
    "    reader = csv.reader(f, delimiter = \"\\t\")\n",
    "    next(reader)\n",
    "    for row in reader:\n",
    "        #row[0] has the customerid names.\n",
    "        card_limit = customerid_cardlimit[row[0]]\n",
    "        \n",
    "        #get the total balance. \n",
    "        accounts[customerid_accountconnection[row[0]]][0].set_Cardbalance(float(row[1]))\n",
    "        total_balance = get_totalbalance_foraccount(accounts[customerid_accountconnection[row[0]]])\n",
    "        account_number = customerid_accountconnection[row[0]]\n",
    "        if(float(total_balance) > float(card_limit)):\n",
    "            print(\"Balance exeeded card limit.\")\n",
    "        else:\n",
    "            if(account_number in final_balancedict.keys()):\n",
    "                final_balancedict[account_number].append([total_balance, row[2]])\n",
    "            else:\n",
    "                final_balancedict[account_number] = [[total_balance, row[2]]]\n",
    "            \n",
    "       "
   ]
  },
  {
   "cell_type": "code",
   "execution_count": 9,
   "metadata": {},
   "outputs": [
    {
     "data": {
      "text/plain": [
       "<matplotlib.text.Text at 0x7f54226aecc0>"
      ]
     },
     "execution_count": 9,
     "metadata": {},
     "output_type": "execute_result"
    },
    {
     "data": {
      "image/png": "[encoded data removed]",
      "text/plain": [
       "<matplotlib.figure.Figure at 0x7f5454534908>"
      ]
     },
     "metadata": {},
     "output_type": "display_data"
    }
   ],
   "source": [
    "import matplotlib.dates as dates\n",
    "total_y = []\n",
    "for i in final_balancedict.keys():\n",
    "    trancs_data = final_balancedict[str(i)]\n",
    "    y = [innerlist[1] for innerlist in trancs_data]\n",
    "    y = dates.datestr2num(y)\n",
    "    total_y.extend(y)\n",
    "    x = [innerlist[0] for innerlist in trancs_data]\n",
    "    plt.plot_date(y,x,label = str(i))\n",
    "plt.title(\"Spending trend\")\n",
    "plt.xlabel(\"Dates\")\n",
    "plt.ylabel(\"Amount\")"
   ]
  },
  {
   "cell_type": "markdown",
   "metadata": {},
   "source": [
    "### Problem 2 - Polynomials (15 Points)\n",
    "\n",
    "Consider a general form of an nth order polynomial. You are asked to implement a polynomial of arbitrary degree using classes in python. For instance consider the polynomial:\n",
    "$$4x^3 + 3x^2 + 7 = 0$$\n",
    "\n",
    "For this implements the following steps:\n",
    "1. Implement a class that represents a single term. \n",
    "2. Implement a class for the entire polynomial. \n",
    "3. Implement an operator ($*$) to multiply two single terms, a term and a polynomial, and two polynomials. (__Note__: _you can overload the $*$ operator in Python by defining a method called ``__mul__(self,other):`` and make it mutiply the ``self`` object with the ``other`` object)\n",
    "4. Implement an operator(s) that enables addition of a term and a polynomial and/or two polynomials. (__Note__: _you can overload the  $+$  operator in Python by defining a method called ``__add__(self,other)``: and make it add the self object with the other object)\n",
    "5. Implement the following two internal methods within ``Polynomial`` class:\n",
    "    - ``order()``, which returns the order of the polynomial (as an ``int``).\n",
    "    - ``solve()``, which returns solutions for the polynomial (a ``list`` of roots). Only do it for quadratic polynomials, and raise an exception for higher order polynomials.\n",
    "6. Implement an external function that plots the polynomial on a domain of [-10,10] (you will have to use _matplotlib_ rountines for this).\n",
    "7. Include a destructor function for the polynomial class.\n",
    "\n",
    "Use the above class definitions and operators to generate the solutions (wherever needed) for the following set of polynomials:\n",
    "\n",
    "1. $x^2 -7x +3=0$\n",
    "2. $x^3 -8x +5=0$\n",
    "3. Consider the following three polynomials: $f(x)=x,$ $g(x)=x^2$ and $p(x)=9x^2 +2$. Plot the function $f(x)-g(x)*p(x)=0$ by taking $f,g,p$ as input functions. For this, use the ``__mul__(self,other)`` and ``__add__(self,other)`` methods.\n",
    "\n",
    "Note: Here you are basically asked to define the basis for the vector space of real polynomials and define all the vector operations."
   ]
  },
  {
   "cell_type": "code",
   "execution_count": 10,
   "metadata": {},
   "outputs": [],
   "source": [
    "#Enter your solution here\n",
    "\n",
    "#The question has been solved assuming that order(polynomial-1) is smaller or equal to order(polynomial-2)\n",
    "\n",
    "\n",
    "class Term:\n",
    "    def __init__(self, power, coeff):\n",
    "        self.power = power\n",
    "        self.coeff = coeff\n",
    "        self.get_power()\n",
    "    \n",
    "    def get_power(self):\n",
    "        if(self.power > 0):\n",
    "            self.power = 1\n",
    "        else:\n",
    "            self.power = 0\n",
    "        \n",
    "    def get_term(self):\n",
    "        return([self.power, self.coeff])\n",
    "    \n",
    "    \n",
    "class Polynomial:\n",
    "    \"\"\"\n",
    "    The Polynomial class can add, sub and multiply two different polynomials. It assumes that the order of \n",
    "    first polynomial is less than or equal to order of second polynomial. \n",
    "    \n",
    "    It can also plot a given polynomial.\n",
    "    \"\"\"\n",
    "    def __init__(self, powers, coefficients):\n",
    "        self.powers = powers\n",
    "        self.coefficients = coefficients\n",
    "        self.order_poly = len(self.powers) - 1\n",
    "        \n",
    "    def get_powers(self):\n",
    "        return(self.powers)\n",
    "    \n",
    "    def get_coefficients(self):\n",
    "        return(self.coefficients)\n",
    "    \n",
    "    \n",
    "    def get_y(self, i, power_list, coefficient_list):\n",
    "        final_y = 0\n",
    "        for index in list(range(0, len(power_list))):\n",
    "            final_y = final_y + (coefficient_list[index]*(pow(i, index)))\n",
    "        return(final_y)\n",
    "    \n",
    "    \n",
    "    def plot_polynomial(self):\n",
    "        \"\"\"\n",
    "        The function expects a polynomial class object and plots a plot in the range -10 to 10. \n",
    "        \"\"\"\n",
    "        power_list = self.get_powers()\n",
    "        coefficient_list = self.get_coefficients()\n",
    "        \n",
    "        x = []\n",
    "        y = []\n",
    "        for i in list(np.linspace(-10, 10, 100)):\n",
    "            x.append(i)           \n",
    "            y.append(self.get_y(i, power_list, coefficient_list))   \n",
    "        plt.plot(x,y)\n",
    "            \n",
    "            \n",
    "    def __add__(self, other_polynomial):\n",
    "        \"\"\"\n",
    "        The method add two polynomials. \n",
    "        \"\"\"\n",
    "        greater_length = max(len(self.get_powers()), len(other_polynomial.get_powers()))\n",
    "        lower_length = min(len(self.get_powers()), len(other_polynomial.get_powers()))\n",
    "        new_power = [0] * lower_length\n",
    "        new_coefficient = [0] * lower_length\n",
    "        \n",
    "        for i in list(range(0, lower_length)):\n",
    "            new_power[i] = self.get_powers()[i] + other_polynomial.get_powers()[i]\n",
    "            new_power[i] = 1 if new_power[i] > 0 else 0\n",
    "            \n",
    "            new_coefficient[i] = self.get_coefficients()[i] + other_polynomial.get_coefficients()[i]\n",
    "        \n",
    "        #if the second polynomial is or order > order of first polynomial.\n",
    "        #extend lower_length to end for powers and coefficients. \n",
    "        new_power.extend(other_polynomial.get_powers()[lower_length:])\n",
    "        new_coefficient.extend(other_polynomial.get_coefficients()[lower_length:])\n",
    "            \n",
    "        self.order_poly = greater_length - 1\n",
    "        return(new_power, new_coefficient)\n",
    "    \n",
    "    \n",
    "    \n",
    "    def __sub__(self, other_polynomial):\n",
    "        \"\"\"\n",
    "        The method subracts two polynomials\n",
    "        \"\"\"\n",
    "        greater_length = max(len(self.get_powers()), len(other_polynomial.get_powers()))\n",
    "        lower_length = min(len(self.get_powers()), len(other_polynomial.get_powers()))\n",
    "        new_power = [0] * lower_length\n",
    "        new_coefficient = [0] * lower_length\n",
    "        \n",
    "        for i in list(range(0, lower_length)):\n",
    "            new_power[i] = self.get_powers()[i] + other_polynomial.get_powers()[i]\n",
    "            new_power[i] = 1 if new_power[i] > 0 else 0\n",
    "            \n",
    "            new_coefficient[i] = self.get_coefficients()[i] - other_polynomial.get_coefficients()[i]\n",
    "            \n",
    "            \n",
    "        #if the second polynomial is or order > order of first polynomial.\n",
    "        #extend lower_length to end for powers and coefficients. \n",
    "        new_power.extend(other_polynomial.get_powers()[lower_length:])\n",
    "        new_coefficient.extend(other_polynomial.get_coefficients()[lower_length:])\n",
    "            \n",
    "        for sub_index in list(range(lower_length, len(new_power))):\n",
    "            new_coefficient[sub_index] = -new_coefficient[sub_index]\n",
    "                \n",
    "        self.order_poly = len(new_power) - 1 \n",
    "        return(new_power, new_coefficient)\n",
    "    \n",
    "    \n",
    "    \n",
    "    def __mul__(self, other_polynomial):\n",
    "        \"\"\"\n",
    "        The method multiplies two polynomials.\n",
    "        \"\"\"\n",
    "        result_length = (len(self.get_powers())-1) + (len(other_polynomial.get_powers())-1) + 1\n",
    "        new_power = np.repeat(0, result_length)\n",
    "        new_coefficient = np.repeat(0, result_length)\n",
    "        \n",
    "        #changes for powers. \n",
    "        for i in list(range(0, len(self.get_powers()))):\n",
    "            for j in list(range(0, len(other_polynomial.get_powers()))):\n",
    "                    #computations for powers. \n",
    "                if(self.get_powers()[i] == 1 and other_polynomial.get_powers()[j] == 1):\n",
    "                    new_power[i+j] = 1\n",
    "                    \n",
    "                    \n",
    "        #changes for coefficients. \n",
    "        for i in list(range(0, len(self.get_coefficients()))):\n",
    "            for j in list(range(0, len(other_polynomial.get_coefficients()))):\n",
    "                new_coefficient[i+j] = new_coefficient[i+j] + (self.get_coefficients()[i] * other_polynomial.get_coefficients()[j])\n",
    "        \n",
    "        self.order_poly = len(new_power) - 1\n",
    "        return(new_power, new_coefficient)\n",
    "    \n",
    "    def order(self):\n",
    "        return(self.order_poly)\n",
    "    \n",
    "    def solve(self):\n",
    "        \"\"\"\n",
    "        The method returns the factors of quadratic equation. \n",
    "        If the order of polynomial is greater than 2 it prints a statement via exception handling.\n",
    "        \"\"\"\n",
    "        coefs = self.get_coefficients()\n",
    "        try:\n",
    "            if(len(coefs) > 3):\n",
    "                raise HigherOrderPolynomialError(\"Higher order polynomial given. Give a polynomial of order 2.\")\n",
    "            else:\n",
    "                a,b,c = coefs[2], coefs[1], coefs[0]\n",
    "                root1 = ((-b) + np.sqrt(b^2 - (4*a*c)))/ (2*a)\n",
    "                root2 = ((-b) - np.sqrt(b^2 - (4*a*c))) / (2*a)\n",
    "                return(root1, root2)\n",
    "        except HigherOrderPolynomialError as err:\n",
    "            print(err)\n",
    "            \n",
    "    def __del__(self):\n",
    "        print(\"Destructor called.\")\n",
    "            \n",
    "class HigherOrderPolynomialError(Exception):\n",
    "    def __init__(self, message):\n",
    "        self.message = message\n",
    "    \n",
    "    def __str__(self):\n",
    "        return(str(self.message))"
   ]
  },
  {
   "cell_type": "code",
   "execution_count": 11,
   "metadata": {},
   "outputs": [
    {
     "name": "stdout",
     "output_type": "stream",
     "text": [
      "Roots:  (5.4364916731037081, 1.5635083268962915)\n"
     ]
    },
    {
     "data": {
      "image/png": "[encoded data removed]",
      "text/plain": [
       "<matplotlib.figure.Figure at 0x7f541ffabcc0>"
      ]
     },
     "metadata": {},
     "output_type": "display_data"
    }
   ],
   "source": [
    "#question-1 \n",
    "term1 = Term(2,1)\n",
    "term2 = Term(1 ,-7)\n",
    "term3 = Term(0,3)\n",
    "\n",
    "poly1_powers = [term1.get_term()[0], term2.get_term()[0], term3.get_term()[0]+1][::-1]\n",
    "poly1_coeffs = [term1.get_term()[1], term2.get_term()[1], term3.get_term()[1]][::-1]\n",
    "\n",
    "poly_q1 = Polynomial(poly1_powers, poly1_coeffs)\n",
    "print(\"Roots: \",poly_q1.solve())\n",
    "poly_q1.plot_polynomial()"
   ]
  },
  {
   "cell_type": "code",
   "execution_count": 12,
   "metadata": {},
   "outputs": [
    {
     "name": "stdout",
     "output_type": "stream",
     "text": [
      "Higher order polynomial given. Give a polynomial of order 2.\n",
      "Roots:  None\n"
     ]
    },
    {
     "data": {
      "image/png": "[encoded data removed]",
      "text/plain": [
       "<matplotlib.figure.Figure at 0x7f541fee0518>"
      ]
     },
     "metadata": {},
     "output_type": "display_data"
    }
   ],
   "source": [
    "#question-2 \n",
    "term1 = Term(3,1)\n",
    "term2 = Term(0,0)\n",
    "term3 = Term(1 ,-8)\n",
    "term4 = Term(0,5)\n",
    "\n",
    "poly1_powers = [term1.get_term()[0], term2.get_term()[0], term3.get_term()[0],term4.get_term()[0]+1][::-1]\n",
    "poly1_coeffs = [term1.get_term()[1], term2.get_term()[1], term3.get_term()[1],term4.get_term()[1]][::-1]\n",
    "\n",
    "#print(poly1_powers, poly1_coeffs)\n",
    "poly_q2 = Polynomial(poly1_powers, poly1_coeffs)\n",
    "print(\"Roots: \",poly_q2.solve())\n",
    "poly_q2.plot_polynomial()"
   ]
  },
  {
   "cell_type": "code",
   "execution_count": 13,
   "metadata": {},
   "outputs": [],
   "source": [
    "#question-3\n",
    "poly1_term1 = Term(1,1)\n",
    "poly2_term1 = Term(2,1)\n",
    "poly2_term2 = Term(0,0)\n",
    "poly2_term3 = Term(0,0)\n",
    "poly3_term1 = Term(2 ,9)\n",
    "poly3_term2 = Term(0,0)\n",
    "poly3_term3 = Term(0,2)\n",
    "\n",
    "#poly-1 : x\n",
    "poly1_q3 = Polynomial([poly1_term1.get_term()[0]],[poly1_term1.get_term()[1]])\n",
    "\n",
    "#poly-2 : x^2\n",
    "poly2_powers = [poly2_term1.get_term()[0], poly2_term2.get_term()[0], poly2_term3.get_term()[0]][::-1]\n",
    "poly2_coeffs = [poly2_term1.get_term()[1], poly2_term2.get_term()[1], poly2_term3.get_term()[1]][::-1]\n",
    "\n",
    "poly2_q3 = Polynomial(poly2_powers, poly2_coeffs)\n",
    "\n",
    "\n",
    "#poly-3 : 9x^2 + 2\n",
    "poly3_powers = [poly3_term1.get_term()[0], poly3_term2.get_term()[0], poly3_term3.get_term()[0]+1][::-1]\n",
    "poly3_coeffs = [poly3_term1.get_term()[1], poly3_term2.get_term()[1], poly3_term3.get_term()[1]][::-1]\n",
    "\n",
    "poly3_q3 = Polynomial(poly3_powers, poly3_coeffs)\n",
    "\n"
   ]
  },
  {
   "cell_type": "code",
   "execution_count": 14,
   "metadata": {
    "collapsed": true
   },
   "outputs": [],
   "source": [
    "poly4_q3 = poly2_q3 * poly3_q3\n",
    "\n",
    "poly5_q3 = Polynomial(list(poly4_q3[0]), list(poly4_q3[1]))\n",
    "final_polynomial = poly1_q3 - poly5_q3\n",
    "final_polynomial = Polynomial(list(final_polynomial[0]), list(final_polynomial[1]))"
   ]
  },
  {
   "cell_type": "code",
   "execution_count": 15,
   "metadata": {},
   "outputs": [
    {
     "data": {
      "image/png": "[encoded data removed]",
      "text/plain": [
       "<matplotlib.figure.Figure at 0x7f5422933c50>"
      ]
     },
     "metadata": {},
     "output_type": "display_data"
    }
   ],
   "source": [
    "final_polynomial.plot_polynomial()"
   ]
  },
  {
   "cell_type": "markdown",
   "metadata": {},
   "source": [
    "### Problem 3 - Random Walk (15 Points)\n",
    "\n",
    "Imagine you are standing at (0,0) on the real plane. At every time step, assume you either take a unit step in one of the four directions (right, left, up, down) with equal probability. This means that after one time step, your new location can be (1,0), (-1,0), (0,1) or (0,-1) with equal probability.\n",
    "\n",
    "For this, create a class `Walker`. The class needs to store the following information:\n",
    "- current position of the walker, where the position is a 2-tuple. You can initialize it to (0,0)\n",
    "- path taken so far by the walker (initially this list will only contain the current position)\n",
    "- method called ``getDirection()`` that determines the direction for the next step (one out of four possible directions: right, left, up, down). To determine the direction, sample a random value from the set {1,2,3,4} using `np.random.randint(0,N)` and assign each outcome to a unit step movement in a particular direction.\n",
    "- method called ``walk()`` which changes the current position of the walker in a specifed direction. Make sure to update the path field to incorporate the next position.\n",
    "\n",
    "After implementing the `Walker` class, you need to conduct the following experiment.\n",
    "Suppose you want to figure out, how many steps will it take for the walker to go outside a pre-defined perimeter (centered at (0,0)). You will have simulate a random walk and keep checking the current position to figure that out. \n",
    "\n",
    "Write a code to run the following simulation:\n",
    "Starting from (0,0), have your walker randomly walk around (using the defined ``walk()`` method), until it steps out of a rectangular area with vertices as: (-4,-4), (-4,4), (4,4), (4,-4). Count the number of steps taken before the walker leaves the area. Repeat the simulation 5 times and report the average number of steps taken by the walker before it exits the area.\n",
    "\n",
    "Plot the path taken in each of the 5 simulation runs (you should all five walks in one graph using different colors)."
   ]
  },
  {
   "cell_type": "code",
   "execution_count": null,
   "metadata": {},
   "outputs": [],
   "source": [
    "#Enter your solution here\n",
    "class Walker:\n",
    "    def __init__(self):\n",
    "        self.current_position = (0,0)\n",
    "        self.all_steps = [(0,0)]\n",
    "        \n",
    "    def get_currentposition(self):\n",
    "        return(self.current_position)\n",
    "    \n",
    "    def get_allsteps(self):\n",
    "        return(self.all_steps)\n",
    "    \n",
    "    def getDirection(self):\n",
    "        possible_steps = [(0,1), (1,0), (0,-1), (-1,0)]\n",
    "        random_index = np.random.randint(0,4)\n",
    "        self.current_position = (self.get_currentposition()[0] + possible_steps[random_index][0], \n",
    "                                self.get_currentposition()[1] + possible_steps[random_index][1])\n",
    "        self.all_steps.append(possible_steps[random_index])\n",
    "    \n",
    "step_list = []\n",
    "plot_data = []\n",
    "for i in range(0,5):\n",
    "    walker_object = Walker()\n",
    "    path = [walker_object.get_currentposition()]\n",
    "    \n",
    "    steps = 0\n",
    "    while(abs(walker_object.get_currentposition()[0]) < 4 and abs(walker_object.get_currentposition()[1]) < 4):\n",
    "        #print(\"current position:\", walker_object.get_currentposition())\n",
    "        walker_object.getDirection()\n",
    "        path.append(walker_object.get_currentposition())\n",
    "        steps = steps + 1\n",
    "    step_list.append(steps)\n",
    "    plot_data.append(path)\n",
    "    \n",
    "print(\"Average Steps: \", np.mean(step_list))\n",
    "    \n",
    "    \n",
    "    \n",
    "plt.figure(figsize = (15,8)) \n",
    "for plots_index in range(0,5):\n",
    "    x = [i[0] for i in plot_data[plots_index]]\n",
    "    y = [i[1] for i in plot_data[plots_index]]\n",
    "    \n",
    "    plt.plot(x,y, label = \"simul-%s\"%(plots_index+1))\n",
    "plt.legend()\n"
   ]
  },
  {
   "cell_type": "markdown",
   "metadata": {},
   "source": [
    "### Problem 4 - Inverse Transform Sampling (10 Points)\n",
    "\n",
    "Random sample for any distribution can be generated from a random sample from uniform distribution. This can be done using **Inverse transform Sampling**. For example, suppose you want to create a sample of size $n$ from an _exponential distribution_. To obtain this sample:\n",
    "1. Generate a sample of size $n$ from Uniform[0,1].\n",
    "2. Identify the inverse of the CDF function of the distribution of your choice (this needs to be done manually and implemented). In our example, it is exponential distribution. Call this function ``inverseCDFExponential()``. Note that you are not allowed to use any routines from ``np.random`` package here. This function should take two arguments, first is the sample point, and the second is the distribution parameter value, $\\lambda$.\n",
    "3. Apply the ``inverseCDFExponential()`` function on each of the $n$ sample points that you generated in step 1. The $n$ outputs will be the sample from your desired distribution. \n",
    "\n",
    "Using the above implementation, generate a sample of size 100 from an  Exponential ($\\lambda=4$) distribution.\n",
    "\n",
    "Your output must include the mean, variance and distribution plot (a histogram) for the generated sample. "
   ]
  },
  {
   "cell_type": "code",
   "execution_count": 6,
   "metadata": {},
   "outputs": [
    {
     "name": "stdout",
     "output_type": "stream",
     "text": [
      "Mean: 0.2557101331978672\n",
      "Variance: 0.07357663515042558\n"
     ]
    },
    {
     "data": {
      "text/plain": [
       "<matplotlib.axes._subplots.AxesSubplot at 0x7fc226a22630>"
      ]
     },
     "execution_count": 6,
     "metadata": {},
     "output_type": "execute_result"
    },
    {
     "data": {
      "image/png": "[encoded data removed]",
      "text/plain": [
       "<matplotlib.figure.Figure at 0x7fc238a47128>"
      ]
     },
     "metadata": {},
     "output_type": "display_data"
    }
   ],
   "source": [
    "#Enter your solution here\n",
    "import math\n",
    "def get_Uniform_Distribution(N):\n",
    "    return(np.linspace(0.001,1, num = N))\n",
    "\n",
    "\n",
    "def inverseCDFExponential(lambda_val):\n",
    "    data_sequence = get_Uniform_Distribution(N = 100)\n",
    "    for index, data in enumerate(data_sequence):\n",
    "        data_sequence[index] = (-1/lambda_val) * math.log(data)\n",
    "    return(data_sequence)\n",
    "\n",
    "\n",
    "inverseCDF_list = inverseCDFExponential(4)\n",
    "inverseCDF_mean = np.mean(inverseCDF_list)\n",
    "inverseCDF_variance = np.var(inverseCDF_list)\n",
    "\n",
    "print(\"Mean: {}\\nVariance: {}\".format(inverseCDF_mean, inverseCDF_variance))\n",
    "sns.distplot(inverseCDF_list)\n"
   ]
  },
  {
   "cell_type": "code",
   "execution_count": 3,
   "metadata": {},
   "outputs": [
    {
     "data": {
      "text/plain": [
       "array([ 0.001     ,  0.01109091,  0.02118182,  0.03127273,  0.04136364,\n",
       "        0.05145455,  0.06154545,  0.07163636,  0.08172727,  0.09181818,\n",
       "        0.10190909,  0.112     ,  0.12209091,  0.13218182,  0.14227273,\n",
       "        0.15236364,  0.16245455,  0.17254545,  0.18263636,  0.19272727,\n",
       "        0.20281818,  0.21290909,  0.223     ,  0.23309091,  0.24318182,\n",
       "        0.25327273,  0.26336364,  0.27345455,  0.28354545,  0.29363636,\n",
       "        0.30372727,  0.31381818,  0.32390909,  0.334     ,  0.34409091,\n",
       "        0.35418182,  0.36427273,  0.37436364,  0.38445455,  0.39454545,\n",
       "        0.40463636,  0.41472727,  0.42481818,  0.43490909,  0.445     ,\n",
       "        0.45509091,  0.46518182,  0.47527273,  0.48536364,  0.49545455,\n",
       "        0.50554545,  0.51563636,  0.52572727,  0.53581818,  0.54590909,\n",
       "        0.556     ,  0.56609091,  0.57618182,  0.58627273,  0.59636364,\n",
       "        0.60645455,  0.61654545,  0.62663636,  0.63672727,  0.64681818,\n",
       "        0.65690909,  0.667     ,  0.67709091,  0.68718182,  0.69727273,\n",
       "        0.70736364,  0.71745455,  0.72754545,  0.73763636,  0.74772727,\n",
       "        0.75781818,  0.76790909,  0.778     ,  0.78809091,  0.79818182,\n",
       "        0.80827273,  0.81836364,  0.82845455,  0.83854545,  0.84863636,\n",
       "        0.85872727,  0.86881818,  0.87890909,  0.889     ,  0.89909091,\n",
       "        0.90918182,  0.91927273,  0.92936364,  0.93945455,  0.94954545,\n",
       "        0.95963636,  0.96972727,  0.97981818,  0.98990909,  1.        ])"
      ]
     },
     "execution_count": 3,
     "metadata": {},
     "output_type": "execute_result"
    }
   ],
   "source": [
    "import numpy as np\n",
    "np.linspace(0.001,1, num = 100)"
   ]
  },
  {
   "cell_type": "code",
   "execution_count": null,
   "metadata": {
    "collapsed": true
   },
   "outputs": [],
   "source": [
    "        \n",
    "        \n"
   ]
  }
 ],
 "metadata": {
  "kernelspec": {
   "display_name": "Python 3",
   "language": "python",
   "name": "python3"
  },
  "language_info": {
   "codemirror_mode": {
    "name": "ipython",
    "version": 3
   },
   "file_extension": ".py",
   "mimetype": "text/x-python",
   "name": "python",
   "nbconvert_exporter": "python",
   "pygments_lexer": "ipython3",
   "version": "3.6.5"
  }
 },
 "nbformat": 4,
 "nbformat_minor": 2
}
