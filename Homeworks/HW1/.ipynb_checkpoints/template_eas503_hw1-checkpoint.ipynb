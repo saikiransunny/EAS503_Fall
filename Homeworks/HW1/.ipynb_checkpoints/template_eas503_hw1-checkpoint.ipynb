{
 "cells": [
  {
   "cell_type": "markdown",
   "metadata": {
    "deletable": true,
    "editable": true
   },
   "source": [
    "## EAS 503 Homework 1 Submission\n",
    "Name - Sai Kiran Putta\n",
    "\n",
    "**Make sure that you rename the notebook file to *replacewithubitname*_eas503_hw1.ipynb**\n",
    "\n",
    "\n",
    "### Submission Details\n",
    "* **Due Date** - September 26, 2017 by 11.59 PM PST. All assignments have to be submitted using UBLearns.\n",
    "* **Number of Problems** - 4\n",
    "* **Maximum points** - 50\n",
    "* **Collaboration policy**\n",
    " - Every student has to submit individual homeworks\n",
    " - Any collaboration, in the form of discussion, with other members of the class is permitted, as long as the names of the collaborating members are explicitly stated on top of the submitted homework.\n",
    " - Any overlap with another submission or material from Internet will be awarded an F.\n",
    "* **Late submission policy** - _No late submissions allowed_\n",
    "* **Submission Format** - Enter code for each problem in the appropriate cell below. You may use multiple cells for a single problem to improve readability."
   ]
  },
  {
   "cell_type": "markdown",
   "metadata": {
    "deletable": true,
    "editable": true
   },
   "source": [
    "### Problem 1 - Testing for Primes (10 Points)\n",
    "Test if a number is prime using `if-else` conditions. Using the developed code, create a list of first 50 prime numbers. Try designing the shortest possible algorithm and record the time taken for the code to run.\n",
    "\n",
    "You will need to define a function `primeTester`, which takes no inputs. The function should return a Python `list` of length 50, with first 50 prime numbers. The function should also output (on the screen), the total time taken to generate the 50 prime numbers. Use the `time` library (as shown in class) for capturing the elapsed time."
   ]
  },
  {
   "cell_type": "code",
   "execution_count": 67,
   "metadata": {
    "collapsed": true,
    "deletable": true,
    "editable": true
   },
   "outputs": [],
   "source": [
    "# Enter your solution here"
   ]
  },
  {
   "cell_type": "markdown",
   "metadata": {
    "deletable": true,
    "editable": true
   },
   "source": [
    "### Problem 2 - Handling Exceptions (10 Points)\n",
    "In this problem we will read from a text file (**data_p2.txt**) included in the assignment. Please download it and store it in the same directory as this notebook. The code for reading data from the file is given below. You need to store the data and perform a simple mathematical operation on each data point. Each line is _supposed_ to contain a floating point number. But what you will observe is that some lines might have erroneous entries. You need to ignore those lines (Hint: Use exception handling). \n",
    "\n",
    "The idea is to write a function, `computeMean()`, which reads in a file and computes the average of the numbers and returns the output. You may use the inbuilt function `sum` when computing the mean."
   ]
  },
  {
   "cell_type": "code",
   "execution_count": 68,
   "metadata": {
    "collapsed": false,
    "deletable": true,
    "editable": true
   },
   "outputs": [],
   "source": [
    "# Reading from a file. The following code just reads in every line in a text file without doing anything with it.\n",
    "# You can use the code in your solution.\n",
    "with open('data_p2.txt','r') as f: #we open the file in 'read' mode. The 'with' clause is similar to 'finally' clause\n",
    "    for line in f: #iterate over the file line by line\n",
    "        s = line.strip() #strip() removes the endline character at the end of the line. Line is of type 'str'"
   ]
  },
  {
   "cell_type": "code",
   "execution_count": 69,
   "metadata": {
    "collapsed": true,
    "deletable": true,
    "editable": true
   },
   "outputs": [],
   "source": [
    "# Enter your solution here"
   ]
  },
  {
   "cell_type": "markdown",
   "metadata": {
    "deletable": true,
    "editable": true
   },
   "source": [
    "### Problem 3 - Benchmarking List Performance (10 Points)\n",
    "We want to check the peformance of the Python inbuilt `del` routine for dropping elements from a list. The question that we want answer for is: does the time required to delete an element from a Python list depend on the size of the list and on the location of the target element.\n",
    "\n",
    "In each step of the experiment do the following: Create a list of integers from 1 to N. Delete the $i^{th}$ element. Measure the time taken to delete the element (Hint: use the `time` package in Python).\n",
    "\n",
    "Conduct the above experiment for $N = 1000$ and $i$ ranging from 1 to 1000 in steps of 10. Make sure that you are recreating the Python list every time. Save the times in a list (let us name it `time1000`).\n",
    "\n",
    "Repeat the above experiment, but set $N = 100000$. This time, vary $i$ from 1 to 100000 in steps of 100. Save the times for this experiment in another list, say, `time100000`.\n",
    "\n",
    "Plot the two lists using the `matplotlib.pyplot` package. See below for a sample code. You can plot both lists in the same chart to compare.\n",
    "\n",
    "Using the plots, answer the following (create a markup cell after your code cell(s) and enter your responses):\n",
    "1. Does the cost of deleting an element depend on the list size?\n",
    "2. Does the cost of deleting an element depend on the location of the deleted element?\n",
    "\n"
   ]
  },
  {
   "cell_type": "code",
   "execution_count": 70,
   "metadata": {
    "collapsed": false,
    "deletable": true,
    "editable": true
   },
   "outputs": [
    {
     "data": {
      "text/plain": [
       "[<matplotlib.lines.Line2D at 0x10d219278>]"
      ]
     },
     "execution_count": 70,
     "metadata": {},
     "output_type": "execute_result"
    },
    {
     "data": {
      "image/png": "[encoded data removed]",
      "text/plain": [
       "<matplotlib.figure.Figure at 0x10d0420b8>"
      ]
     },
     "metadata": {},
     "output_type": "display_data"
    }
   ],
   "source": [
    "# Using matplotlib for plotting\n",
    "import matplotlib.pyplot as plt\n",
    "%matplotlib inline \n",
    "# above line is needed to make sure that the plots are displayed in the notebook.\n",
    "\n",
    "#generate some dummy data\n",
    "x = list(range(0, 20)) # generate a list\n",
    "y = [x1**2+2*x1 for x1 in x] # create a new list using the original list. Note the Pythonic inline creation of lists.\n",
    "y1 = [x1**2.3 for x1 in x]\n",
    "plt.plot(x,y)\n",
    "plt.plot(x,y1)"
   ]
  },
  {
   "cell_type": "code",
   "execution_count": 71,
   "metadata": {
    "collapsed": true,
    "deletable": true,
    "editable": true
   },
   "outputs": [],
   "source": [
    "# Enter your solution here"
   ]
  },
  {
   "cell_type": "markdown",
   "metadata": {
    "deletable": true,
    "editable": true
   },
   "source": [
    "### Problem 4 - The Monty Hall Problem (20 Points)\n",
    "The Monty Hall problem is an interesting and often counter-intuitive game.\n",
    "\n",
    "> Consider that you are a contestant on a game show. There are 3 closed doors. Behind one door is the car (the prize), and behind the other two doors are goats (not the prize). First you are asked to pick one door (call it door A). Without opening door A, the eponymous host of the game, Monty Hall, examines the other two doors. Monty always opens the door with a goat (call it B). If both doors had goats behind them, he picks one at random.\n",
    "\n",
    "> The game is this: _stick_ or _switch_; after finding out about the door B (and the fact that there is a goat behind it), do you stick with your original choice of door A or switch to the other unopened door, C? Statistically speaking, once you know about B, will the probability of the car to be behind C is greater than, less than, or equal to that of behind A?\n",
    "\n",
    "> Surprisingly, the odds aren't 50-50. If you switch doors you'll win 2/3 of the time!\n",
    "\n",
    "**Monty hall problem**: Implement a simulation for the Monty Hall game. Run the simulation 1000 times to figure out the empirical (observed) probability of winning when switching and winning when sticking to the original choice. Each simulation operates as follows:\n",
    "1. First randomly pick a door configuration (In an actual game, this configuration will be visible to Monty but not to the contestant). You will have to first figure out the total number of possible configurations. For example, one possibility could be GGC, which means first and second doors have goats and third door has the car. You can select one of the configuration randomly in many ways. For instance, you could use the routine `np.random.randint(0,N)` to randomly obtain an integer between 0 and $N$, where $N$ is the total number of configurations. Another option would be pick a random number between 0 and 2 and use that to assign the car to a particular door.\n",
    "2. Next, the contestant randomly picks one of the three doors as the one with the car behind it. This can also be done using the `np.random.randint()` method.\n",
    "3. Next, the host (the program - Monty) deterministically chooses which of the other two doors to open. If the contestant has chosen a door with the car, then the program can just choose the first of the two remaining doors (since both have goats behind them). Or it could be a random coin flip (again, use `np.random.randint()` method). \n",
    "4. Finally, the contestant randomly chooses to either stick or switch. The program checks if the contestant won (the chosen door does have a car behind it) or not (the chosen door has a goat behind it). In case of winning, record if the winning was because of _sticking_ or _switching_.\n",
    "\n",
    "Once the method `simulategame()` that does the above four steps and returns _sticking_, _switching_, or None, depending on the win/loss scenario, run the method 1000 times and count the number of times the win was due to _sticking_ to the decision in Step 1, and number of times the win was due to _switching_ to the other door."
   ]
  },
  {
   "cell_type": "code",
   "execution_count": 72,
   "metadata": {
    "collapsed": false,
    "deletable": true,
    "editable": true
   },
   "outputs": [],
   "source": [
    "# Enter your solution here"
   ]
  }
 ],
 "metadata": {
  "kernelspec": {
   "display_name": "Python 3",
   "language": "python",
   "name": "python3"
  },
  "language_info": {
   "codemirror_mode": {
    "name": "ipython",
    "version": 3
   },
   "file_extension": ".py",
   "mimetype": "text/x-python",
   "name": "python",
   "nbconvert_exporter": "python",
   "pygments_lexer": "ipython3",
   "version": "3.6.0"
  }
 },
 "nbformat": 4,
 "nbformat_minor": 2
}
